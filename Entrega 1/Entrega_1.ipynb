{
<<<<<<< HEAD
  "cells": [
    {
      "cell_type": "markdown",
      "metadata": {},
      "source": [
        "# Entrega 1 Optimizacion\n",
        "\n",
        "### Grupo 4\n",
        "\n",
        "Integrantes:\n",
        "* Carlos Arevalo\n",
        "* Nangel Coello\n",
        "* Daniel Maturana \n",
        "* Benjamin Pavez"
      ]
    },
    {
      "cell_type": "markdown",
      "metadata": {},
      "source": [
        "## Problema de Asignación"
      ]
    },
    {
      "cell_type": "markdown",
      "metadata": {},
      "source": []
    },
    {
      "cell_type": "markdown",
      "metadata": {},
      "source": [
        "### Enunciado\n",
        "En una empresa se busca asignar de forma óptima a sus trabajadores en las diversas tareas que deben llevarse a cabo. Se sabe que los trabajadores están clasificados según su nivel de especialización. Además, las tareas están clasificadas según los mismos niveles de especialización de tal manera que una tarea de cierto nivel de especialización puede ser ejecutada solo por trabajadores de tal nivel, o bien, uno superior, pero no inferior.\n",
        "\n",
        "Cada tarea requiere de cierta cantidad de tiempo para ser completada y cada trabajador puede ser asignado por una cantidad determinada de tiempo. Todas las tareas deben ser completadas en su totalidad.\n",
        "\n",
        "Todos los trabajadores de cierto nivel de especialización suponen un costo por unidad de tiempo y un costo fijo asociado a asignar a cierto trabajador a cierta tarea en específico. A estos costos los llamaremos costos 1. Además, existe un costo por sobrecalificación asociada a cada tarea.\n",
        "\n",
        "Cada trabajador puede ser asignado a máximo N tareas, pero para completar una tarea puede requerirse más de un trabajador. No obstante, no se pueden asignar más de dos tercios del total de los trabajadores a solo una tarea.\n",
        "\n",
        "La empresa cuenta con un presupuesto P para la asignación de tareas que no puede ser superado, y busca:\n",
        "1. Minimizar costos 1.\n",
        "2. Minimizar costos de sobrecalificación."
      ]
    },
    {
      "cell_type": "markdown",
      "metadata": {},
      "source": [
        "### Formulación del Modelo Matemático\n",
        "\n",
        "#### Conjuntos:\n",
        "- \\( I \\): Conjunto de trabajadores, \\( i \\in I \\).\n",
        "- \\( J \\): Conjunto de tareas, \\( j \\in J \\).\n",
        "- \\( L \\): Conjunto de niveles de especialización, \\( l \\in \\{1, 2, 3, \\ldots, 8\\} \\).\n",
        "\n",
        "#### Parámetros:\n",
        "- \\( E_i \\): Nivel de especialización del trabajador \\( i \\).\n",
        "- \\( S_j \\): Nivel de especialización requerido para la tarea \\( j \\).\n",
        "- \\( T_j \\): Tiempo requerido para completar la tarea \\( j \\).\n",
        "- \\( H_i \\): Tiempo disponible del trabajador \\( i \\).\n",
        "- \\( C_{ij} \\): Costo fijo asociado a asignar al trabajador \\( i \\) a la tarea \\( j \\).\n",
        "- \\( U_i \\): Costo por unidad de tiempo del trabajador \\( i \\).\n",
        "- \\( O_{ij} \\): Costo por sobrecalificación de asignar al trabajador \\( i \\) a la tarea \\( j \\) (si \\( E_i > S_j \\)).\n",
        "- \\( P \\): Presupuesto disponible.\n",
        "- \\( N \\): Máximo número de tareas a las que puede ser asignado un trabajador.\n",
        "\n",
        "#### Variables:\n",
        "- \\(x_{ij}\\): Variable binaria que indica si el trabajador \\(i\\) es asignado a la tarea \\(j\\).\n",
        "- \\(y_{ij}\\): Tiempo que el trabajador \\(i\\) dedica a la tarea \\(j\\).\n",
        "\n",
        "#### Función objetivo:\n",
        "Minimizar los costos totales (costos 1 y costos de sobrecalificación):\n",
        "\n",
        "\\[ \n",
        "\\text{Minimizar} \\quad Z = \\sum_{i \\in I} \\sum_{j \\in J} (C_{ij} \\cdot x_{ij} + U_i \\cdot y_{ij} + O_{ij} \\cdot x_{ij})\n",
        "\\]\n",
        "\n",
        "#### Restricciones:\n",
        "1. **Asignación completa de tareas**: Cada tarea debe ser completada en su totalidad.\n",
        "   \\[\n",
        "   \\sum_{i \\in I} y_{ij} = T_j \\quad \\forall j \\in J\n",
        "   \\]\n",
        "\n",
        "2. **Tiempo disponible por trabajador**: Un trabajador no puede ser asignado más allá de su tiempo disponible.\n",
        "   \\[\n",
        "   \\sum_{j \\in J} y_{ij} \\leq H_i \\quad \\forall i \\in I\n",
        "   \\]\n",
        "\n",
        "3. **Nivel de especialización**: Un trabajador puede ser asignado a una tarea solo si su nivel de especialización es igual o superior al requerido.\n",
        "   \\[\n",
        "   x_{ij} = 0 \\quad \\text{si} \\quad E_i < S_j\n",
        "   \\]\n",
        "\n",
        "4. **Relación entre \\(x_{ij}\\) y \\(y_{ij}\\)**: Si un trabajador \\(i\\) no está asignado a una tarea \\(j\\), el tiempo dedicado es cero.\n",
        "   \\[\n",
        "   y_{ij} \\leq T_j \\cdot x_{ij} \\quad \\forall i \\in I, \\forall j \\in J\n",
        "   \\]\n",
        "\n",
        "5. **Límite de tareas por trabajador**: Un trabajador puede ser asignado a un máximo de \\(N\\) tareas.\n",
        "   \\[\n",
        "   \\sum_{j \\in J} x_{ij} \\leq N \\quad \\forall i \\in I\n",
        "   \\]\n",
        "\n",
        "6. **Presupuesto**: El costo total no debe superar el presupuesto disponible.\n",
        "   \\[\n",
        "   \\sum_{i \\in I} \\sum_{j \\in J} (C_{ij} \\cdot x_{ij} + U_i \\cdot y_{ij} + O_{ij} \\cdot x_{ij}) \\leq P\n",
        "   \\]\n",
        "\n",
        "7. **Límite de asignación por tarea**: No se pueden asignar más de dos tercios de los trabajadores a una sola tarea.\n",
        "   \\[\n",
        "   \\sum_{i \\in I} x_{ij} \\leq \\frac{2}{3}|I| \\quad \\forall j \\in J\n",
        "   \\]\n",
        "\n",
        "8. **Variables binarias**:\n",
        "   \\[\n",
        "   x_{ij} \\in \\{0, 1\\} \\quad \\forall i \\in I, \\forall j \\in J\n",
        "   \\]"
      ]
    },
    {
      "cell_type": "markdown",
      "metadata": {},
      "source": [
        "### Posibles Casos de Infactibilidad\n",
        "\n",
        "- **Insuficiente tiempo disponible**: Si el tiempo total requerido por todas las tareas es mayor que la suma del tiempo disponible de todos los trabajadores.\n",
        "- **Presupuesto insuficiente**: Si el presupuesto disponible es menor que el costo mínimo necesario para asignar todas las tareas.\n",
        "- **Desajuste en niveles de especialización**: Si hay tareas para las cuales no hay trabajadores con un nivel de especialización adecuado.\n",
        "- **Exceso de tareas por trabajador**: Si las restricciones de un máximo de \\(N\\) tareas por trabajador no pueden cumplirse debido a la cantidad de tareas y trabajadores.\n",
        "- **Límite de asignación por tarea**: Si algunas tareas requieren más trabajadores de los que pueden ser asignados sin exceder el límite de dos tercios."
      ]
    },
    {
      "cell_type": "markdown",
      "metadata": {},
      "source": [
        "### Generador de Instancias en Python"
      ]
    },
    {
      "cell_type": "code",
      "execution_count": 5,
      "metadata": {
        "id": "qxvX_DbgzRDY"
      },
      "outputs": [
        {
          "ename": "TypeError",
          "evalue": "object of type 'int' has no len()",
          "output_type": "error",
          "traceback": [
            "\u001b[1;31m---------------------------------------------------------------------------\u001b[0m",
            "\u001b[1;31mTypeError\u001b[0m                                 Traceback (most recent call last)",
            "Cell \u001b[1;32mIn[5], line 37\u001b[0m\n\u001b[0;32m     35\u001b[0m \u001b[38;5;66;03m# Ejemplo de generación de instancia\u001b[39;00m\n\u001b[0;32m     36\u001b[0m I, J, N \u001b[38;5;241m=\u001b[39m \u001b[38;5;241m10\u001b[39m, \u001b[38;5;241m5\u001b[39m, \u001b[38;5;241m4\u001b[39m\n\u001b[1;32m---> 37\u001b[0m E, S, H, T, U, C, O, P \u001b[38;5;241m=\u001b[39m \u001b[43mgenerar_instancia\u001b[49m\u001b[43m(\u001b[49m\u001b[43mI\u001b[49m\u001b[43m,\u001b[49m\u001b[43m \u001b[49m\u001b[43mJ\u001b[49m\u001b[43m,\u001b[49m\u001b[43m \u001b[49m\u001b[43mN\u001b[49m\u001b[43m)\u001b[49m\n\u001b[0;32m     38\u001b[0m \u001b[38;5;28mprint\u001b[39m(\u001b[38;5;124m\"\u001b[39m\u001b[38;5;124mNiveles de especialización de trabajadores:\u001b[39m\u001b[38;5;124m\"\u001b[39m, E)\n\u001b[0;32m     39\u001b[0m \u001b[38;5;28mprint\u001b[39m(\u001b[38;5;124m\"\u001b[39m\u001b[38;5;124mNiveles de especialización requeridos por tareas:\u001b[39m\u001b[38;5;124m\"\u001b[39m, S)\n",
            "Cell \u001b[1;32mIn[5], line 31\u001b[0m, in \u001b[0;36mgenerar_instancia\u001b[1;34m(I, J, N)\u001b[0m\n\u001b[0;32m     28\u001b[0m O \u001b[38;5;241m=\u001b[39m np\u001b[38;5;241m.\u001b[39mrandom\u001b[38;5;241m.\u001b[39mrandint(\u001b[38;5;241m10000\u001b[39m, \u001b[38;5;241m30001\u001b[39m, (I, J))\n\u001b[0;32m     30\u001b[0m \u001b[38;5;66;03m# Presupuesto\u001b[39;00m\n\u001b[1;32m---> 31\u001b[0m P \u001b[38;5;241m=\u001b[39m random\u001b[38;5;241m.\u001b[39mrandint(\u001b[38;5;241m2\u001b[39m \u001b[38;5;241m*\u001b[39m \u001b[38;5;28;43mlen\u001b[39;49m\u001b[43m(\u001b[49m\u001b[43mI\u001b[49m\u001b[43m)\u001b[49m \u001b[38;5;241m/\u001b[39m\u001b[38;5;241m/\u001b[39m \u001b[38;5;241m3\u001b[39m \u001b[38;5;241m*\u001b[39m \u001b[38;5;241m10000\u001b[39m, \u001b[38;5;241m4\u001b[39m \u001b[38;5;241m*\u001b[39m \u001b[38;5;28mlen\u001b[39m(I) \u001b[38;5;241m/\u001b[39m\u001b[38;5;241m/\u001b[39m \u001b[38;5;241m5\u001b[39m \u001b[38;5;241m*\u001b[39m \u001b[38;5;241m10000\u001b[39m)\n\u001b[0;32m     33\u001b[0m \u001b[38;5;28;01mreturn\u001b[39;00m E, S, H, T, U, C, O, P\n",
            "\u001b[1;31mTypeError\u001b[0m: object of type 'int' has no len()"
          ]
        }
      ],
      "source": [
        "import numpy as np\n",
        "import random\n",
        "\n",
        "def generar_instancia(I, J, N):\n",
        "    # Niveles de especialización (distribución triangular)\n",
        "    E = np.random.triangular(1, 8, 8, I).astype(int)\n",
        "    S = np.random.triangular(1, 1, 8, J).astype(int)\n",
        "    \n",
        "    # Tiempo disponible por trabajador y tiempo requerido por tarea\n",
        "    if N == 1:\n",
        "        H = np.random.randint(300, 451, I)\n",
        "        T = np.random.randint(30, 301, J)\n",
        "    elif N == 2:\n",
        "        H = np.random.randint(400, 551, I)\n",
        "        T = np.random.randint(30, 401, J)\n",
        "    elif N == 3:\n",
        "        H = np.random.randint(500, 651, I)\n",
        "        T = np.random.randint(30, 501, J)\n",
        "    elif N == 4:\n",
        "        H = np.random.randint(600, 751, I)\n",
        "        T = np.random.randint(30, 601, J)\n",
        "    \n",
        "    # Costos por unidad de tiempo por trabajador\n",
        "    U = [random.randint(5 + 5 * (e - 1), 10 + 5 * (e - 1)) for e in E]\n",
        "    \n",
        "    # Costos fijos y costos de sobrecalificación\n",
        "    C = np.random.randint(4000, 8001, (I, J))\n",
        "    O = np.random.randint(10000, 30001, (I, J))\n",
        "    \n",
        "    # Presupuesto\n",
        "    P = random.randint(2 * len(I) // 3 * 10000, 4 * len(I) // 5 * 10000)\n",
        "    \n",
        "    return E, S, H, T, U, C, O, P\n",
        "\n",
        "# Ejemplo de generación de instancia\n",
        "I, J, N = 10, 5, 4\n",
        "E, S, H, T, U, C, O, P = generar_instancia(I, J, N)\n",
        "print(\"Niveles de especialización de trabajadores:\", E)\n",
        "print(\"Niveles de especialización requeridos por tareas:\", S)\n",
        "print(\"Tiempos disponibles de trabajadores:\", H)\n",
        "print(\"Tiempos requeridos por tareas:\", T)\n",
        "print(\"Costos por unidad de tiempo de trabajadores:\", U)\n",
        "print(\"Costos fijos de asignación:\", C)\n",
        "print(\"Costos de sobrecalificación:\", O)\n",
        "print(\"Presupuesto:\", P)\n"
      ]
    }
  ],
=======
  "nbformat": 4,
  "nbformat_minor": 0,
>>>>>>> ec849a209b25e2195b9c4d9370fa898c6eb8e85f
  "metadata": {
    "colab": {
      "provenance": []
    },
    "kernelspec": {
<<<<<<< HEAD
      "display_name": "Python 3",
      "name": "python3"
    },
    "language_info": {
      "codemirror_mode": {
        "name": "ipython",
        "version": 3
      },
      "file_extension": ".py",
      "mimetype": "text/x-python",
      "name": "python",
      "nbconvert_exporter": "python",
      "pygments_lexer": "ipython3",
      "version": "3.9.0"
    }
  },
  "nbformat": 4,
  "nbformat_minor": 0
}
=======
      "name": "python3",
      "display_name": "Python 3"
    },
    "language_info": {
      "name": "python"
    }
  },
  "cells": [
    {
      "cell_type": "code",
      "execution_count": null,
      "metadata": {
        "id": "qxvX_DbgzRDY"
      },
      "outputs": [],
      "source": []
    }
  ]
}
>>>>>>> ec849a209b25e2195b9c4d9370fa898c6eb8e85f
