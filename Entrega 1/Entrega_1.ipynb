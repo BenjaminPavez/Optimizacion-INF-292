{
  "cells": [
    {
      "cell_type": "markdown",
      "metadata": {},
      "source": [
        "# Entrega 1 Optimizacion\n",
        "\n",
        "### Grupo 4\n",
        "\n",
        "Integrantes:\n",
        "* Carlos Arevalo\n",
        "* Nangel Coello\n",
        "* Daniel Maturana \n",
        "* Benjamin Pavez"
      ]
    },
    {
      "cell_type": "markdown",
      "metadata": {},
      "source": [
        "## Problema de Asignación"
      ]
    },
    {
      "cell_type": "markdown",
      "metadata": {},
      "source": [
        "### Enunciado\n",
        "En una empresa se busca asignar de forma óptima a sus trabajadores en las diversas tareas que deben llevarse a cabo. Se sabe que los trabajadores están clasificados según su nivel de especialización. Además, las tareas están clasificadas según los mismos niveles de especialización de tal manera que una tarea de cierto nivel de especialización puede ser ejecutada solo por trabajadores de tal nivel, o bien, uno superior, pero no inferior.\n",
        "\n",
        "Cada tarea requiere de cierta cantidad de tiempo para ser completada y cada trabajador puede ser asignado por una cantidad determinada de tiempo. Todas las tareas deben ser completadas en su totalidad.\n",
        "\n",
        "Todos los trabajadores de cierto nivel de especialización suponen un costo por unidad de tiempo y un costo fijo asociado a asignar a cierto trabajador a cierta tarea en específico. A estos costos los llamaremos costos 1. Además, existe un costo por sobrecalificación asociada a cada tarea.\n",
        "\n",
        "Cada trabajador puede ser asignado a máximo \\$N\\$ tareas, pero para completar una tarea puede requerirse más de un trabajador. No obstante, no se pueden asignar más de dos tercios del total de los trabajadores a solo una tarea.\n",
        "\n",
        "La empresa cuenta con un presupuesto \\$P\\$ para la asignación de tareas que no puede ser superado, y busca:\n",
        "1. Minimizar \\$costos\\$ \\$1\\$.\n",
        "2. Minimizar costos de sobrecalificación."
      ]
    },
    {
      "cell_type": "markdown",
      "metadata": {},
      "source": [
        "### Formulación del Modelo Matemático\n",
        "\n",
        "#### Conjuntos:\n",
        "- *I* : Conjunto de trabajadores, i $\\in$ *I*.\n",
        "- *J* : Conjunto de tareas, j $\\in$ *J*.\n",
        "- *L* : Conjunto de niveles de especialización,  l $\\in$ \\{1, 2, 3, $\\ldots$, 8\\}.\n",
        "\n",
        "#### Parámetros:\n",
        "- \\$ E_i \\$: Nivel de especialización del trabajador \\$ i \\$.\n",
        "- \\$ S_j \\$: Nivel de especialización requerido para la tarea \\$ j \\$.\n",
        "- \\$ T_j \\$: Tiempo requerido para completar la tarea \\$ j \\$.\n",
        "- \\$ H_i \\$: Tiempo disponible del trabajador \\$ i \\$.\n",
        "- \\$ C_{ij} \\$: Costo fijo asociado a asignar al trabajador \\$ i \\$ a la tarea \\$ j \\$.\n",
        "-\\$ U_i \\$: Costo por unidad de tiempo del trabajador \\$ i \\$.\n",
        "- \\$ O_{ij} \\$: Costo por sobrecalificación de asignar al trabajador \\$ i \\$ a la tarea \\$ j \\$ (si \\$ E_i > S_j \\$).\n",
        "- \\$ P \\$: Presupuesto disponible.\n",
        "- \\$ N \\$: Máximo número de tareas a las que puede ser asignado un trabajador.\n",
        "\n",
        "#### Variables:\n",
        "- \\$x_{ij}\\$ : Variable binaria que indica si el trabajador \\$i\\$ es asignado a la tarea \\$j\\$.\n",
        "- \\$y_{ij}\\$ : Tiempo que el trabajador \\$i\\$ dedica a la tarea \\$j\\$.\n",
        "\n",
        "#### Función objetivo:\n",
        "Minimizar los costos totales (costos 1 y costos de sobrecalificación):\n",
        "\n",
        "\\$ \n",
        "\\text{Minimizar} \\quad Z = \\sum_{i \\in I} \\sum_{j \\in J} (C_{ij} \\cdot x_{ij} + U_i \\cdot y_{ij} + O_{ij} \\cdot x_{ij})\n",
        "\\$\n",
        "\n",
        "#### Restricciones:\n",
        "1. **Asignación completa de tareas**: Cada tarea debe ser completada en su totalidad.\n",
        "   \\$\n",
        "   \\sum_{i \\in I} y_{ij} = T_j \\quad \\forall j \\in J\n",
        "   \\$\n",
        "\n",
        "2. **Tiempo disponible por trabajador**: Un trabajador no puede ser asignado más allá de su tiempo disponible.\n",
        "   \\$\n",
        "   \\sum_{j \\in J} y_{ij} \\leq H_i \\quad \\forall i \\in I\n",
        "   \\$\n",
        "\n",
        "3. **Nivel de especialización**: Un trabajador puede ser asignado a una tarea solo si su nivel de especialización es igual o superior al requerido.\n",
        "   \\$\n",
        "   x_{ij} = 0 \\quad \\text{si} \\quad E_i < S_j\n",
        "   \\$\n",
        "\n",
        "4. **Relación entre \\$x_{ij}\\$ y \\$y_{ij}\\$** : Si un trabajador \\$i\\$ no está asignado a una tarea \\$j\\$, el tiempo dedicado es cero.\n",
        "   \\$\n",
        "   y_{ij} \\leq T_j \\cdot x_{ij} \\quad \\forall i \\in I, \\forall j \\in J\n",
        "   \\$\n",
        "\n",
        "5. **Límite de tareas por trabajador**: Un trabajador puede ser asignado a un máximo de \\$N\\$ tareas.\n",
        "   \\$\n",
        "   \\sum_{j \\in J} x_{ij} \\leq N \\quad \\forall i \\in I\n",
        "   \\$\n",
        "\n",
        "6. **Presupuesto**: El costo total no debe superar el presupuesto disponible.\n",
        "   \\$\n",
        "   \\sum_{i \\in I} \\sum_{j \\in J} (C_{ij} \\cdot x_{ij} + U_i \\cdot y_{ij} + O_{ij} \\cdot x_{ij}) \\leq P\n",
        "   \\$\n",
        "\n",
        "7. **Límite de asignación por tarea**: No se pueden asignar más de dos tercios de los trabajadores a una sola tarea.\n",
        "   \\$\n",
        "   \\sum_{i \\in I} x_{ij} \\leq \\frac{2}{3}|I| \\quad \\forall j \\in J\n",
        "   \\$\n",
        "\n",
        "8. **Variables binarias**:\n",
        "   \\$\n",
        "   x_{ij} \\in \\{0, 1\\} \\quad \\forall i \\in I, \\forall j \\in J\n",
        "   \\$"
      ]
    },
    {
      "cell_type": "markdown",
      "metadata": {},
      "source": [
        "### Posibles Casos de Infactibilidad\n",
        "\n",
        "- **Insuficiente tiempo disponible**: Si el tiempo total requerido por todas las tareas es mayor que la suma del tiempo disponible de todos los trabajadores.\n",
        "- **Presupuesto insuficiente**: Si el presupuesto disponible es menor que el costo mínimo necesario para asignar todas las tareas.\n",
        "- **Desajuste en niveles de especialización**: Si hay tareas para las cuales no hay trabajadores con un nivel de especialización adecuado.\n",
        "- **Exceso de tareas por trabajador**: Si las restricciones de un máximo de \\$N\\$ tareas por trabajador no pueden cumplirse debido a la cantidad de tareas y trabajadores.\n",
        "- **Límite de asignación por tarea**: Si algunas tareas requieren más trabajadores de los que pueden ser asignados sin exceder el límite de dos tercios.\n"
      ]
    },
    {
      "cell_type": "markdown",
      "metadata": {},
      "source": [
        "### Generador de Instancias en Python"
      ]
    },
    {
      "cell_type": "code",
      "execution_count": 8,
      "metadata": {
        "id": "qxvX_DbgzRDY"
      },
      "outputs": [
        {
          "name": "stdout",
          "output_type": "stream",
          "text": [
            "Niveles de especialización de trabajadores: [2 5 6 6 5 4 4 4 6 4]\n",
            "Niveles de especialización requeridos por tareas: [1 3 5 4 2]\n",
            "Tiempos disponibles de trabajadores: [714 626 690 712 614 600 678 714 685 675]\n",
            "Tiempos requeridos por tareas: [236 335 466 572 462]\n",
            "Costos por unidad de tiempo de trabajadores: [14, 27, 31, 30, 29, 20, 20, 23, 31, 22]\n",
            "Costos fijos de asignación: [[5227 4998 5126 4414 6682]\n",
            " [4731 5358 7750 5429 4678]\n",
            " [5454 6102 5590 4165 5472]\n",
            " [7831 4757 7775 4647 5063]\n",
            " [5411 5950 7888 4992 5426]\n",
            " [6199 4721 7244 4531 7150]\n",
            " [5773 4688 7514 5366 4651]\n",
            " [6039 6314 6779 4421 5444]\n",
            " [4766 7809 6121 4036 6671]\n",
            " [6619 4723 6863 5297 6454]]\n",
            "Costos de sobrecalificación: [[21828 16559 26148 27986 10110]\n",
            " [27083 20232 22400 25830 19375]\n",
            " [28016 27057 15582 29087 14647]\n",
            " [25495 25322 17507 29760 24825]\n",
            " [17500 28937 15467 20072 14323]\n",
            " [25487 28394 19014 28211 19132]\n",
            " [21267 27073 25370 16419 25723]\n",
            " [23148 15051 14881 26747 17797]\n",
            " [28200 28240 10946 20652 19019]\n",
            " [14077 22684 26369 15699 14814]]\n",
            "Presupuesto: 70570\n"
          ]
        }
      ],
      "source": [
        "import numpy as np\n",
        "import random\n",
        "\n",
        "def generar_instancia(I, J, N):\n",
        "    # Niveles de especialización (distribución triangular)\n",
        "    E = np.random.triangular(1, 8, 8, I).astype(int)\n",
        "    S = np.random.triangular(1, 1, 8, J).astype(int)\n",
        "    \n",
        "    # Tiempo disponible por trabajador y tiempo requerido por tarea\n",
        "    if N == 1:\n",
        "        H = np.random.randint(300, 451, I)\n",
        "        T = np.random.randint(30, 301, J)\n",
        "    elif N == 2:\n",
        "        H = np.random.randint(400, 551, I)\n",
        "        T = np.random.randint(30, 401, J)\n",
        "    elif N == 3:\n",
        "        H = np.random.randint(500, 651, I)\n",
        "        T = np.random.randint(30, 501, J)\n",
        "    elif N == 4:\n",
        "        H = np.random.randint(600, 751, I)\n",
        "        T = np.random.randint(30, 601, J)\n",
        "    \n",
        "    # Costos por unidad de tiempo por trabajador\n",
        "    U = [random.randint(5 + 5 * (e - 1), 10 + 5 * (e - 1)) for e in E]\n",
        "    \n",
        "    # Costos fijos y costos de sobrecalificación\n",
        "    C = np.random.randint(4000, 8001, (I, J))\n",
        "    O = np.random.randint(10000, 30001, (I, J))\n",
        "    \n",
        "    # Presupuesto\n",
        "    P = random.randint(2 * (I // 3) * 10000, 4 * (I // 5) * 10000)\n",
        "    \n",
        "    return E, S, H, T, U, C, O, P\n",
        "\n",
        "# Ejemplo de generación de instancia\n",
        "I, J, N = 10, 5, 4\n",
        "E, S, H, T, U, C, O, P = generar_instancia(I, J, N)\n",
        "print(\"Niveles de especialización de trabajadores:\", E)\n",
        "print(\"Niveles de especialización requeridos por tareas:\", S)\n",
        "print(\"Tiempos disponibles de trabajadores:\", H)\n",
        "print(\"Tiempos requeridos por tareas:\", T)\n",
        "print(\"Costos por unidad de tiempo de trabajadores:\", U)\n",
        "print(\"Costos fijos de asignación:\", C)\n",
        "print(\"Costos de sobrecalificación:\", O)\n",
        "print(\"Presupuesto:\", P)\n"
      ]
    }
  ],
  "metadata": {
    "colab": {
      "provenance": []
    },
    "kernelspec": {
      "display_name": "Python 3",
      "name": "python3"
    },
    "language_info": {
      "codemirror_mode": {
        "name": "ipython",
        "version": 3
      },
      "file_extension": ".py",
      "mimetype": "text/x-python",
      "name": "python",
      "nbconvert_exporter": "python",
      "pygments_lexer": "ipython3",
      "version": "3.9.0"
    }
  },
  "nbformat": 4,
  "nbformat_minor": 0
}
