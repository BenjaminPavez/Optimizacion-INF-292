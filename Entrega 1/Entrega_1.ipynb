{
  "cells": [
    {
      "cell_type": "markdown",
      "metadata": {},
      "source": [
        "# Entrega 1 Optimización\n",
        "\n",
        "### Grupo 4\n",
        "\n",
        "Integrantes:\n",
        "* Carlos Arevalo\n",
        "* Nangel Coello\n",
        "* Daniel Maturana\n",
        "* Benjamin Pavez"
      ]
    },
    {
      "cell_type": "markdown",
      "metadata": {},
      "source": [
        "## Problema de Asignación"
      ]
    },
    {
      "cell_type": "markdown",
      "metadata": {},
      "source": [
        "### Enunciado\n",
        "En una empresa se busca asignar de forma óptima a sus trabajadores en las diversas tareas que deben llevarse a cabo. Se sabe que los trabajadores están clasificados según su nivel de especialización. Además, las tareas están clasificadas según los mismos niveles de especialización de tal manera que una tarea de cierto nivel de especialización puede ser ejecutada solo por trabajadores de tal nivel, o bien, uno superior, pero no inferior.\n",
        "\n",
        "Cada tarea requiere de cierta cantidad de tiempo para ser completada y cada trabajador puede ser asignado por una cantidad determinada de tiempo. Todas las tareas deben ser completadas en su totalidad.\n",
        "\n",
        "Todos los trabajadores de cierto nivel de especialización suponen un costo por unidad de tiempo y un costo fijo asociado a asignar a cierto trabajador a cierta tarea en específico. A estos costos los llamaremos $costos$ $1$. Además, existe un costo por sobrecalificación asociada a cada tarea.\n",
        "\n",
        "Cada trabajador puede ser asignado a máximo \\$N\\$ tareas, pero para completar una tarea puede requerirse más de un trabajador. No obstante, no se pueden asignar más de dos tercios del total de los trabajadores a solo una tarea.\n",
        "\n",
        "La empresa cuenta con un presupuesto \\$P\\$ para la asignación de tareas que no puede ser superado, y busca:\n",
        "1. Minimizar $costos$ $1$.\n",
        "2. Minimizar costos de sobrecalificación."
      ]
    },
    {
      "cell_type": "markdown",
      "metadata": {},
      "source": [
        "### Formulación del Modelo Matemático\n",
        "\n",
        "#### Conjuntos:\n",
        "- *I* : Conjunto de trabajadores, i $\\in$ *I*.\n",
        "- *J* : Conjunto de tareas, j $\\in$ *J*.\n",
        "- *L* : Conjunto de niveles de especialización,  l $\\in$ \\{1, 2, 3, $\\ldots$, 8\\}.\n",
        "\n",
        "#### Parámetros:\n",
        "- $ E_i $: Nivel de especialización del trabajador $ i $.\n",
        "- $ S_j $: Nivel de especialización requerido para la tarea $ j $.\n",
        "- $ T_j $: Tiempo requerido para completar la tarea $ j $.\n",
        "- $ H_i $: Tiempo disponible del trabajador $ i $.\n",
        "- $ C_{ij} $: Costo fijo asociado a asignar al trabajador $ i $ a la tarea $ j $.\n",
        "- $ U_i $: Costo por unidad de tiempo del trabajador $ i $.\n",
        "- $ O_{ij} $: Costo por sobrecalificación de asignar al trabajador $ i $ a la tarea $ j $ (si $ E_i > S_j $).\n",
        "- $ P $: Presupuesto disponible.\n",
        "- $ N $: Máximo número de tareas a las que puede ser asignado un trabajador.\n",
        "\n",
        "#### Variables:\n",
        "- $x_{ij}$ : Variable binaria que indica si el trabajador $i$ es asignado a la tarea $j$.\n",
        "- $y_{ij}$ : Tiempo que el trabajador $i$ dedica a la tarea $j$.\n",
        "\n",
        "#### Función objetivo:\n",
        "Minimizar los costos 1:\n",
        "\n",
        "$\n",
        "\\text{Minimizar} \\quad Z = \\sum_{i \\in I} \\sum_{j \\in J} (C_{ij} \\cdot x_{ij} + U_i \\cdot y_{ij})\n",
        "$\n",
        "\n",
        "#### Restricciones:\n",
        "1. **Asignación completa de tareas**: Cada tarea debe ser completada en su totalidad.\n",
        "   $\n",
        "   \\sum_{i \\in I} y_{ij} = T_j \\quad \\forall j \\in J\n",
        "   $  \n",
        "\n",
        "   \n",
        "2. **Tiempo disponible por trabajador**: Un trabajador no puede ser asignado más allá de su tiempo disponible.\n",
        "   $\n",
        "   \\sum_{j \\in J} y_{ij} \\leq H_i \\quad \\forall i \\in I\n",
        "   $  \n",
        "\n",
        "  \n",
        "3. **Nivel de especialización**: Un trabajador puede ser asignado a una tarea solo si su nivel de especialización es igual o superior al requerido.\n",
        "   $\n",
        "   x_{ij}( E_i - S_j) \\le 0\n",
        "   $\n",
        "\n",
        "  \n",
        "4. **Relación entre $x_{ij}$ y $y_{ij}$** : Si un trabajador $i$ no está asignado a una tarea $j$, el tiempo dedicado es cero.\n",
        "   $\n",
        "   y_{ij} \\leq T_j \\cdot x_{ij} \\quad \\forall i \\in I, \\forall j \\in J\n",
        "   $\n",
        "\n",
        "\n",
        "5. **Límite de tareas por trabajador**: Un trabajador puede ser asignado a un máximo de $N$ tareas.\n",
        "   $\n",
        "   \\sum_{j \\in J} x_{ij} \\leq N \\quad \\forall i \\in I\n",
        "   $\n",
        "\n",
        "\n",
        "6. **Presupuesto**: El costo total no debe superar el presupuesto disponible.\n",
        "   $\n",
        "   \\sum_{i \\in I} \\sum_{j \\in J} (C_{ij} \\cdot x_{ij} + U_i \\cdot y_{ij} + O_{ij} \\cdot x_{ij}) \\leq P\n",
        "   $\n",
        "\n",
        "\n",
        "7. **Límite de asignación por tarea**: No se pueden asignar más de dos tercios de los trabajadores a una sola tarea.\n",
        "   $\n",
        "   \\sum_{i \\in I} x_{ij} \\leq \\frac{2}{3}|I| \\quad \\forall j \\in J\n",
        "   $\n",
        "\n",
        "\n",
        "8. **Naturaleza variables**:\n",
        "   \n",
        "   $x_{ij} \\in \\{0, 1\\} \\quad \\forall i \\in I, \\forall j \\in J$\n",
        "   \n",
        "   $y_{ij} \\ge 0 \\quad \\forall i \\in I, \\forall j \\in J$"
      ]
    },
    {
      "cell_type": "markdown",
      "metadata": {},
      "source": [
        "### Posibles Casos de Infactibilidad\n",
        "\n",
        "- **Insuficiente tiempo disponible**: Si el tiempo total requerido por todas las tareas es mayor que la suma del tiempo disponible de todos los trabajadores.\n",
        "- **Presupuesto insuficiente**: Si el presupuesto disponible es menor que el costo mínimo necesario para asignar todas las tareas.\n",
        "- **Desajuste en niveles de especialización**: Si hay tareas para las cuales no hay trabajadores con un nivel de especialización adecuado.\n",
        "- **Exceso de tareas por trabajador**: Si las restricciones de un máximo de $N$ tareas por trabajador no pueden cumplirse debido a la cantidad de tareas y trabajadores.\n",
        "- **Límite de asignación por tarea**: Si algunas tareas requieren más trabajadores de los que pueden ser asignados sin exceder el límite de dos tercios.\n"
      ]
    },
    {
      "cell_type": "markdown",
      "metadata": {},
      "source": [
        "### Generador de Instancias en Python"
      ]
    },
    {
      "cell_type": "code",
      "execution_count": 16,
      "metadata": {
        "id": "qxvX_DbgzRDY"
      },
      "outputs": [
        {
          "name": "stdout",
          "output_type": "stream",
          "text": [
            "Niveles de especialización de trabajadores: [7 3 7 4 6 6 2 7 3 7]\n",
            "Niveles de especialización requeridos por tareas: [3 7 1 2 4]\n",
            "Tiempos disponibles de trabajadores: [620 680 740 660 660 630 620 620 670 630]\n",
            "Tiempos requeridos por tareas: [710 730 680 660 730]\n",
            "Costos por unidad de tiempo de trabajadores: [36.54763351 17.71099203 37.952245   21.36988357 33.66856743 32.01272211\n",
            " 12.77080243 39.5430861  16.56543951 37.50085118]\n",
            "Costos fijos de asignación: [[6087 4395 5666 5523 7164]\n",
            " [6648 4100 4851 5216 7957]\n",
            " [4347 5748 7493 7510 7916]\n",
            " [4222 7680 5564 5501 7179]\n",
            " [6209 5980 5510 6895 4978]\n",
            " [7079 4109 6631 4647 5523]\n",
            " [4144 6746 4683 6931 7269]\n",
            " [7616 5199 4619 7559 6304]\n",
            " [4575 4809 5921 5569 7268]\n",
            " [5472 5577 6628 7258 6674]]\n",
            "Costos de sobrecalificación: [[24950 16247 19967 12806 21847]\n",
            " [11184 16159 27234 16838 18427]\n",
            " [22231 26214 26426 23163 17726]\n",
            " [25141 15433 21073 28883 26407]\n",
            " [22894 27678 29020 18164 22525]\n",
            " [14055 23905 18380 15818 19875]\n",
            " [18061 26189 22872 15374 17364]\n",
            " [25890 28762 24193 10087 11492]\n",
            " [14903 11657 13241 29220 19016]\n",
            " [21704 15357 24674 13466 14973]]\n",
            "Presupuesto: 76608\n"
          ]
        }
      ],
      "source": [
        "import numpy as np\n",
        "import random\n",
        "\n",
        "def generar_instancia(I, J, N):\n",
        "    # Niveles de especialización (distribución triangular)\n",
        "    E = np.random.triangular(1, 8, 8, I).astype(int)\n",
        "    S = np.random.triangular(1, 1, 8, J).astype(int)\n",
        "\n",
        "    # Tiempo disponible por trabajador y tiempo requerido por tarea\n",
        "    inf_limit = 20 + 10*N\n",
        "    sup_limit = inf_limit + 15\n",
        "    H = np.random.randint(inf_limit, sup_limit, I)*10\n",
        "    T = np.random.randint(inf_limit, sup_limit, J)*10\n",
        "\n",
        "    # Costos por unidad de tiempo por trabajador\n",
        "    costo_tiempo = lambda n_e: np.random.uniform(5*n_e, 5*n_e+5)\n",
        "    U = costo_tiempo(E)\n",
        "\n",
        "    # Costos fijos y costos de sobrecalificación\n",
        "    C = np.random.randint(4000, 8001, (I, J))\n",
        "    O = np.random.randint(10000, 30001, (I, J))\n",
        "\n",
        "    # Presupuesto\n",
        "    P = np.random.randint(2 * (I // 3) * 10000, 4 * (I // 5) * 10000)\n",
        "\n",
        "    return E, S, H, T, U, C, O, P\n",
        "\n",
        "# Ejemplo de generación de instancia\n",
        "I, J, N = 10, 5, 4\n",
        "E, S, H, T, U, C, O, P = generar_instancia(I, J, N)\n",
        "print(\"Niveles de especialización de trabajadores:\", E)\n",
        "print(\"Niveles de especialización requeridos por tareas:\", S)\n",
        "print(\"Tiempos disponibles de trabajadores:\", H)\n",
        "print(\"Tiempos requeridos por tareas:\", T)\n",
        "print(\"Costos por unidad de tiempo de trabajadores:\", U)\n",
        "print(\"Costos fijos de asignación:\", C)\n",
        "print(\"Costos de sobrecalificación:\", O)\n",
        "print(\"Presupuesto:\", P)\n",
        "\n",
        "\n"
      ]
    }
  ],
  "metadata": {
    "colab": {
      "provenance": []
    },
    "kernelspec": {
      "display_name": "Python 3",
      "name": "python3"
    },
    "language_info": {
      "codemirror_mode": {
        "name": "ipython",
        "version": 3
      },
      "file_extension": ".py",
      "mimetype": "text/x-python",
      "name": "python",
      "nbconvert_exporter": "python",
      "pygments_lexer": "ipython3",
      "version": "3.9.0"
    }
  },
  "nbformat": 4,
  "nbformat_minor": 0
}
